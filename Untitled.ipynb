{
  "nbformat": 4,
  "nbformat_minor": 0,
  "metadata": {
    "colab": {
      "private_outputs": true,
      "provenance": []
    },
    "kernelspec": {
      "name": "python3",
      "display_name": "Python 3"
    },
    "language_info": {
      "name": "python"
    }
  },
  "cells": [
    {
      "cell_type": "code",
      "source": [
        "from google.colab import drive\n",
        "drive.mount('/content/drive')"
      ],
      "metadata": {
        "id": "MoFiSVH7FLZL"
      },
      "execution_count": null,
      "outputs": []
    },
    {
      "cell_type": "code",
      "source": [
        "# /content/drive/MyDrive/Bank /Churn_Modelling.csv\n",
        "\n",
        "import pandas as pd\n",
        "\n",
        "# Load dataset\n",
        "data = pd.read_csv('/content/drive/MyDrive/Bank /Churn_Modelling.csv')\n",
        "\n",
        "# Overview of data\n",
        "print(data.info())"
      ],
      "metadata": {
        "id": "_fkEK2lYGIwD"
      },
      "execution_count": null,
      "outputs": []
    },
    {
      "cell_type": "code",
      "source": [
        "print(data.describe())"
      ],
      "metadata": {
        "id": "DnaYPEDhJ7EM"
      },
      "execution_count": null,
      "outputs": []
    },
    {
      "cell_type": "code",
      "source": [
        "print(data.isnull().sum())  # Identify missing values"
      ],
      "metadata": {
        "id": "QslwAYZMKrvJ"
      },
      "execution_count": null,
      "outputs": []
    },
    {
      "cell_type": "code",
      "source": [
        "data.head(10)"
      ],
      "metadata": {
        "id": "NtAY7hD8KDpH"
      },
      "execution_count": null,
      "outputs": []
    },
    {
      "cell_type": "code",
      "source": [
        "# Drop irrelevant columns\n",
        "# RowNumber: Just an index, no predictive value.\n",
        "# CustomerId: Unique identifier, irrelevant for model training.\n",
        "# Surname: No direct impact on customer churn prediction.\n",
        "data.drop(['RowNumber', 'CustomerId', 'Surname'], axis=1, inplace=True)\n",
        "\n",
        "# Display the updated dataframe\n",
        "data.head()"
      ],
      "metadata": {
        "id": "_biJpjsFK-9P"
      },
      "execution_count": null,
      "outputs": []
    },
    {
      "cell_type": "code",
      "source": [
        "print(data['Geography'].unique())"
      ],
      "metadata": {
        "id": "zjXN1l_iMrL9"
      },
      "execution_count": null,
      "outputs": []
    },
    {
      "cell_type": "code",
      "source": [
        "data.head()"
      ],
      "metadata": {
        "id": "KtjLt0f_NQl4"
      },
      "execution_count": null,
      "outputs": []
    },
    {
      "cell_type": "code",
      "source": [
        "data = pd.get_dummies(data, columns=['Geography'], drop_first=False)"
      ],
      "metadata": {
        "id": "lk7QOxqoVJUA"
      },
      "execution_count": null,
      "outputs": []
    },
    {
      "cell_type": "code",
      "source": [
        "print(data.head(7))"
      ],
      "metadata": {
        "id": "uIgbx6QbNSV0"
      },
      "execution_count": null,
      "outputs": []
    },
    {
      "cell_type": "code",
      "source": [
        "print(data.info())"
      ],
      "metadata": {
        "id": "s6rTvIWfONpu"
      },
      "execution_count": null,
      "outputs": []
    },
    {
      "cell_type": "code",
      "source": [
        "data['Gender'] = data['Gender'].map({'Male': 1, 'Female': 0})"
      ],
      "metadata": {
        "id": "r9TIrWVwVb6r"
      },
      "execution_count": null,
      "outputs": []
    },
    {
      "cell_type": "code",
      "source": [
        "data[['Geography_France', 'Geography_Germany', 'Geography_Spain']] = data[\n",
        "    ['Geography_France', 'Geography_Germany', 'Geography_Spain']\n",
        "].astype(int)"
      ],
      "metadata": {
        "id": "jbPHqp40VuAX"
      },
      "execution_count": null,
      "outputs": []
    },
    {
      "cell_type": "code",
      "source": [
        "data.head(10)"
      ],
      "metadata": {
        "id": "fOQahCsUV4BW"
      },
      "execution_count": null,
      "outputs": []
    },
    {
      "cell_type": "code",
      "source": [
        "import seaborn as sns\n",
        "import matplotlib.pyplot as plt\n",
        "\n",
        "sns.countplot(x='Exited', hue='Exited', data=data, palette='coolwarm', legend=False)\n",
        "plt.title('Churn Distribution (Exited)')\n",
        "plt.show()\n",
        "\n",
        "# The blue bar shows approximately 8,000 customers who stayed\n",
        "# The salmon/pink bar shows approximately 2,000 customers who exited"
      ],
      "metadata": {
        "id": "_LAWFuGBV-wD"
      },
      "execution_count": null,
      "outputs": []
    },
    {
      "cell_type": "code",
      "source": [
        "sns.barplot(x='Gender', y='Exited', data=data, palette='coolwarm')\n",
        "plt.title('Churn Rate by Gender')\n",
        "plt.xticks([0, 1], ['Female', 'Male'])\n",
        "plt.show()\n",
        "# Female customers have a churn rate of approximately 25% (0.25)\n",
        "# Male customers have a churn rate of approximately 16-17% (0.16-0.17)"
      ],
      "metadata": {
        "id": "ou-8UTC8WaSg"
      },
      "execution_count": null,
      "outputs": []
    },
    {
      "cell_type": "code",
      "source": [
        "plt.figure(figsize=(10,5))\n",
        "sns.histplot(data=data, x='Age', hue='Exited', kde=True, bins=30, palette='coolwarm')\n",
        "plt.title('Age Distribution of Churned vs. Retained Customers')\n",
        "plt.show()\n",
        "# Most customers are between 30-45 years old\n",
        "# There appears to be a higher proportion of churned customers in the older age ranges (45-60)"
      ],
      "metadata": {
        "id": "5cm5lYWzWqT7"
      },
      "execution_count": null,
      "outputs": []
    },
    {
      "cell_type": "code",
      "source": [
        "sns.boxplot(x='Exited', y='CreditScore', data=data, palette='coolwarm')\n",
        "plt.title('Credit Score Distribution by Churn')\n",
        "plt.show()\n",
        "\n",
        "#The median (middle line in each box) is slightly higher for customers who churned\n",
        "# The interquartile range (the box height) looks fairly similar between both groups\n",
        "# The whiskers (lines extending from the boxes) show the range of typical values\n",
        "# There are a few outliers (dots) at the lower end of the credit score range for customers who churned"
      ],
      "metadata": {
        "id": "aFMhQKIaWu_9"
      },
      "execution_count": null,
      "outputs": []
    },
    {
      "cell_type": "code",
      "source": [
        "plt.figure(figsize=(8,4))\n",
        "sns.barplot(x=data[['Geography_France', 'Geography_Germany', 'Geography_Spain']].idxmax(axis=1), y=data['Exited'], palette='coolwarm')\n",
        "plt.title('Churn Rate by Geography')\n",
        "plt.xlabel('Geography')\n",
        "plt.ylabel('Churn Rate')\n",
        "plt.show()\n",
        "\n",
        "# France has a churn rate of about 16%\n",
        "# Spain has a churn rate of about 17%\n",
        "# Germany has a significantly higher churn rate of about 32%"
      ],
      "metadata": {
        "id": "0wz64hN-Yjfo"
      },
      "execution_count": null,
      "outputs": []
    },
    {
      "cell_type": "code",
      "source": [
        "plt.figure(figsize=(12,6))\n",
        "sns.heatmap(data.corr(), annot=True, cmap='coolwarm', fmt=\".2f\")\n",
        "plt.title('Feature Correlation Heatmap')\n",
        "plt.show()\n",
        "\n",
        "'''\n",
        "Strongest correlations with churn (Exited):\n",
        "Age: 0.29 (positive) - Older customers are more likely to churn\n",
        "IsActiveMember: -0.16 (negative) - Active members are less likely to churn\n",
        "Geography_Germany: 0.17 (positive) - German customers are more likely to churn\n",
        "Gender: -0.11 (negative) - Since Gender is likely encoded as 0=Female and 1=Male, this suggests females are more likely to churn\n",
        "Balance: 0.12 (positive) - Customers with higher balances are somewhat more likely to churn\n",
        "\n",
        "Other interesting relationships:\n",
        "\n",
        "Balance and NumOfProducts: -0.30 (negative) - Customers with more products tend to have lower balances\n",
        "Balance and Geography_Germany: 0.40 (positive) - German customers tend to have higher balances\n",
        "The Geography variables show negative correlations with each other (as expected with one-hot encoding)\n",
        "Age and IsActiveMember: 0.09 (slight positive) - Older customers are slightly more likely to be active members'''"
      ],
      "metadata": {
        "id": "uvU7sAzEZaUk"
      },
      "execution_count": null,
      "outputs": []
    },
    {
      "cell_type": "code",
      "source": [
        "sns.pairplot(data[['Age', 'Balance', 'CreditScore', 'Exited']], hue='Exited', palette='coolwarm')\n",
        "plt.show()\n",
        "\n",
        "'''\n",
        "\n",
        "Diagonal plots (from top-left to bottom-right) - These show the distribution of each variable:\n",
        "\n",
        "Age: Shows a bimodal distribution with peaks around 30-40 and 60-70 years\n",
        "Balance: Shows two distinct distributions - one at zero (no balance) and one centered around 100,000-120,000\n",
        "CreditScore: Shows a roughly normal distribution centered around 650-700\n",
        "\n",
        "\n",
        "Scatter plots (off-diagonal) - These show relationships between pairs of variables:\n",
        "\n",
        "Blue dots represent retained customers (Exited=0)\n",
        "Salmon/pink dots represent churned customers (Exited=1)\n",
        "\n",
        "\n",
        "\n",
        "Key observations from this visualization:\n",
        "\n",
        "Age patterns: Churned customers (pink) are more prevalent in the higher age ranges, confirming the positive correlation we saw in the heatmap\n",
        "Balance patterns: Churned customers appear slightly more concentrated in higher balance ranges\n",
        "CreditScore: Less clear separation between churned and retained customers\n",
        "Zero balance customers: There's a noticeable horizontal line at Balance=0 that appears to be mostly blue (retained customers)'''"
      ],
      "metadata": {
        "id": "6piJboD0ZrVh"
      },
      "execution_count": null,
      "outputs": []
    },
    {
      "cell_type": "code",
      "source": [
        "from sklearn.model_selection import train_test_split\n",
        "from sklearn.preprocessing import StandardScaler\n",
        "\n",
        "\n",
        "X = data.drop(columns=['Exited'])  # Features (all columns except target)\n",
        "y = data['Exited']  # Target variable (1 = Churn, 0 = Stay)"
      ],
      "metadata": {
        "id": "ZV_4zZRrazWc"
      },
      "execution_count": null,
      "outputs": []
    },
    {
      "cell_type": "code",
      "source": [
        "X_train, X_test, y_train, y_test = train_test_split(X, y, test_size=0.2, random_state=42, stratify=y)"
      ],
      "metadata": {
        "id": "U5TH5bJObiay"
      },
      "execution_count": null,
      "outputs": []
    },
    {
      "cell_type": "code",
      "source": [
        "scaler = StandardScaler()\n",
        "X_train = scaler.fit_transform(X_train)\n",
        "X_test = scaler.transform(X_test)"
      ],
      "metadata": {
        "id": "CCSTp0RFbogU"
      },
      "execution_count": null,
      "outputs": []
    },
    {
      "cell_type": "code",
      "source": [
        "from sklearn.ensemble import RandomForestClassifier\n",
        "import numpy as np\n",
        "\n",
        "# Train a basic Random Forest model\n",
        "rf = RandomForestClassifier(n_estimators=100, random_state=42)\n",
        "rf.fit(X_train, y_train)\n",
        "\n",
        "# Get feature importances\n",
        "importances = rf.feature_importances_\n",
        "\n",
        "# Print sorted feature importance\n",
        "feature_names = X.columns\n",
        "sorted_indices = np.argsort(importances)[::-1]\n",
        "\n",
        "print(\"Feature Importance Ranking:\")\n",
        "for i in sorted_indices:\n",
        "    print(f\"{feature_names[i]}: {importances[i]:.4f}\")\n",
        "\n",
        "'''\n",
        "\n",
        "Top Influential Factors:\n",
        "\n",
        "Age (0.2403) - By far the most important predictor of churn, which aligns with what we saw in the visualizations showing older customers more likely to leave\n",
        "EstimatedSalary (0.1444) - The second most important feature, though interestingly, this wasn't strongly correlated with churn in the correlation heatmap\n",
        "CreditScore (0.1427) - Nearly tied with salary in importance\n",
        "Balance (0.1423) - Also highly important, which matches the correlation we saw in the heatmap\n",
        "\n",
        "Moderately Important:\n",
        "\n",
        "NumOfProducts (0.1280) - Number of products a customer has with the bank\n",
        "Tenure (0.0826) - How long a customer has been with the bank\n",
        "\n",
        "Less Important:\n",
        "\n",
        "IsActiveMember (0.0398) - Despite showing a noticeable correlation in the heatmap (-0.16), it's ranked lower in feature importance\n",
        "Geography_Germany (0.0227) - While the bar chart showed Germany having a much higher churn rate, its predictive importance is relatively low\n",
        "Gender (0.0192) - Also lower importance, despite the bar chart showing a clear difference in churn rates between genders\n",
        "HasCrCard (0.0183) - Whether the customer has a credit card\n",
        "11-12. Geography_France (0.0102) and Geography_Spain (0.0094) - Least important factors'''"
      ],
      "metadata": {
        "id": "CP01g6PNbsjY"
      },
      "execution_count": null,
      "outputs": []
    },
    {
      "cell_type": "code",
      "source": [
        "import seaborn as sns\n",
        "import matplotlib.pyplot as plt\n",
        "\n",
        "sns.countplot(x=y, palette='coolwarm')\n",
        "plt.title(\"Class Distribution of Churn\")\n",
        "plt.show()"
      ],
      "metadata": {
        "id": "h33udhKAbzzw"
      },
      "execution_count": null,
      "outputs": []
    },
    {
      "cell_type": "code",
      "source": [
        "from imblearn.over_sampling import SMOTE\n",
        "\n",
        "smote = SMOTE(random_state=42)\n",
        "X_train_bal, y_train_bal = smote.fit_resample(X_train, y_train)\n",
        "\n",
        "# Check new class balance\n",
        "sns.countplot(x=y_train_bal, palette='coolwarm')\n",
        "plt.title(\"Balanced Class Distribution After SMOTE\")\n",
        "plt.show()"
      ],
      "metadata": {
        "id": "59JzP37vcJ19"
      },
      "execution_count": null,
      "outputs": []
    },
    {
      "cell_type": "code",
      "source": [
        "from sklearn.linear_model import LogisticRegression\n",
        "from sklearn.metrics import accuracy_score, classification_report\n",
        "\n",
        "# Train model\n",
        "lr = LogisticRegression()\n",
        "lr.fit(X_train_bal, y_train_bal)\n",
        "\n",
        "# Predict on test set\n",
        "y_pred = lr.predict(X_test)\n",
        "\n",
        "# Evaluate model\n",
        "print(\"Logistic Regression Performance:\")\n",
        "print(classification_report(y_test, y_pred))\n",
        "print(\"Accuracy:\", accuracy_score(y_test, y_pred))"
      ],
      "metadata": {
        "id": "735xgP2ycNZ1"
      },
      "execution_count": null,
      "outputs": []
    },
    {
      "cell_type": "code",
      "source": [
        "rf = RandomForestClassifier(n_estimators=100, random_state=42)\n",
        "rf.fit(X_train_bal, y_train_bal)\n",
        "\n",
        "y_pred_rf = rf.predict(X_test)\n",
        "\n",
        "print(\"Random Forest Performance:\")\n",
        "print(classification_report(y_test, y_pred_rf))\n",
        "print(\"Accuracy:\", accuracy_score(y_test, y_pred_rf))"
      ],
      "metadata": {
        "id": "_LIVA4NocQm3"
      },
      "execution_count": null,
      "outputs": []
    },
    {
      "cell_type": "code",
      "source": [
        "from sklearn.neural_network import MLPClassifier\n",
        "\n",
        "mlp = MLPClassifier(hidden_layer_sizes=(50,50), max_iter=500, random_state=42)\n",
        "mlp.fit(X_train_bal, y_train_bal)\n",
        "\n",
        "y_pred_mlp = mlp.predict(X_test)\n",
        "\n",
        "print(\"Neural Network Performance:\")\n",
        "print(classification_report(y_test, y_pred_mlp))\n",
        "print(\"Accuracy:\", accuracy_score(y_test, y_pred_mlp))"
      ],
      "metadata": {
        "id": "10RRkJ34cVRa"
      },
      "execution_count": null,
      "outputs": []
    },
    {
      "cell_type": "code",
      "source": [
        "import numpy as np\n",
        "\n",
        "# Sample customer data: [CreditScore, Gender, Age, Tenure, Balance, NumOfProducts, HasCrCard, IsActiveMember, EstimatedSalary, Geography_France, Geography_Germany, Geography_Spain]\n",
        "new_customer = np.array([[700, 1, 35, 5, 120000, 2, 1, 1, 90000, 0, 1, 0]])  # Example: Male, 35 yrs old, Germany\n",
        "\n",
        "# Scale the new customer data (using the same scaler from training)\n",
        "new_customer_scaled = scaler.transform(new_customer)"
      ],
      "metadata": {
        "id": "y1zTXYUAcY-J"
      },
      "execution_count": null,
      "outputs": []
    },
    {
      "cell_type": "code",
      "source": [
        "prediction = rf.predict(new_customer_scaled)\n",
        "\n",
        "if prediction[0] == 1:\n",
        "    print(\"This customer is likely to CHURN!\")\n",
        "else:\n",
        "    print(\"This customer is likely to STAY.\")"
      ],
      "metadata": {
        "id": "_w1frFJqcpz0"
      },
      "execution_count": null,
      "outputs": []
    },
    {
      "cell_type": "code",
      "source": [],
      "metadata": {
        "id": "duioPEQEcu2c"
      },
      "execution_count": null,
      "outputs": []
    }
  ]
}